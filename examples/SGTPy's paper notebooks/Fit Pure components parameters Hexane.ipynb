{
 "cells": [
  {
   "cell_type": "markdown",
   "metadata": {},
   "source": [
    "# Fit pure component molecular parameters for Hexane\n",
    "\n",
    "This notebook has te purpose of showing how to optimize the molecular parameters of a pure fluid in SGTPy.\n",
    "\n",
    "First it's needed to import the necessary modules"
   ]
  },
  {
   "cell_type": "code",
   "execution_count": 1,
   "metadata": {},
   "outputs": [],
   "source": [
    "import numpy as np\n",
    "from scipy.optimize import minimize\n",
    "from sgtpy import component, saftvrmie"
   ]
  },
  {
   "cell_type": "markdown",
   "metadata": {},
   "source": [
    "Now the experimental equilibria data is read. For Hexane this include vapor and liquid density and saturation temperature and pressure."
   ]
  },
  {
   "cell_type": "code",
   "execution_count": 2,
   "metadata": {},
   "outputs": [],
   "source": [
    "# Experimental equilibria data obtained from NIST WebBook\n",
    "Tsat = np.array([290., 300., 310., 320., 330., 340., 350., 360.]) # K\n",
    "Psat = np.array([ 14016.,  21865.,  32975.,  48251.,  68721.,  95527., 129920., 173260.]) # Pa\n",
    "rhol = np.array([7683.6, 7577.4, 7469.6, 7360.1, 7248.7, 7135. , 7018.7, 6899.5]) #nol/m3\n",
    "rhov = np.array([ 5.8845,  8.9152, 13.087, 18.683, 26.023, 35.466, 47.412, 62.314]) #mol/m3"
   ]
  },
  {
   "cell_type": "markdown",
   "metadata": {},
   "source": [
    "Then is necessary to create an objective function, as ```fobj```. This function can be modified according to the available experimental data and the parameters to be optimized. \n",
    "\n",
    "For this fluid, $m_s, \\sigma, \\epsilon, \\lambda_r$ are optimized and $\\lambda_a$ is fixed to 6. The objective function measures the error for the calculated saturation pressure, liquid density and vapor density (weighted). "
   ]
  },
  {
   "cell_type": "code",
   "execution_count": 3,
   "metadata": {},
   "outputs": [],
   "source": [
    "# objective function to optimize molecular parameters\n",
    "def fobj(inc):\n",
    "    ms, sigma, eps, lambda_r = inc\n",
    "    pure = component(ms = ms, sigma = sigma , eps = eps, lambda_r = lambda_r , lambda_a = 6.)\n",
    "    eos = saftvrmie(pure)\n",
    "    \n",
    "    #Pure component pressure and liquid density\n",
    "    P = np.zeros_like(Psat) \n",
    "    vl = np.zeros_like(rhol)\n",
    "    vv = np.zeros_like(rhov)\n",
    "    n= len(Psat)\n",
    "    for i in range(n):\n",
    "        P[i], vl[i], vv[i] = eos.psat(Tsat[i], Psat[i])\n",
    "    \n",
    "    rhosaftl = 1/vl\n",
    "    rhosaftv = 1/vv\n",
    "    \n",
    "    error = np.mean(np.abs(P/Psat - 1))\n",
    "    error += np.mean(np.abs(rhosaftl/rhol - 1))\n",
    "    error += 0.1*np.mean(np.abs(rhosaftv/rhov - 1))\n",
    "    \n",
    "    return error"
   ]
  },
  {
   "cell_type": "markdown",
   "metadata": {},
   "source": [
    "The objective function is minimized using SciPy's ```minimize``` function."
   ]
  },
  {
   "cell_type": "code",
   "execution_count": 4,
   "metadata": {},
   "outputs": [
    {
     "name": "stderr",
     "output_type": "stream",
     "text": [
      "c:\\users\\gusta\\documents\\sgtpy\\sgtpy\\vrmie_pure\\ideal.py:25: RuntimeWarning: invalid value encountered in log\n",
      "  a = np.log(rho * broglie_vol**3) - 1\n",
      "c:\\users\\gusta\\documents\\sgtpy\\sgtpy\\vrmie_pure\\saftvrmie.py:280: RuntimeWarning: overflow encountered in exp\n",
      "  integrer = np.exp(-beta * self.umie)\n",
      "c:\\users\\gusta\\documents\\sgtpy\\sgtpy\\vrmie_pure\\monomer_aux.py:8: RuntimeWarning: divide by zero encountered in double_scalars\n",
      "  I = (x0**lam3 - 1.) / lam3\n",
      "c:\\users\\gusta\\documents\\sgtpy\\sgtpy\\vrmie_pure\\monomer_aux.py:15: RuntimeWarning: divide by zero encountered in double_scalars\n",
      "  J = (lam3*x0**lam4 - lam4*x0**lam3 + 1.)/(lam3 * lam4)\n",
      "c:\\users\\gusta\\documents\\sgtpy\\sgtpy\\vrmie_pure\\monomer_aux.py:15: RuntimeWarning: invalid value encountered in double_scalars\n",
      "  J = (lam3*x0**lam4 - lam4*x0**lam3 + 1.)/(lam3 * lam4)\n",
      "c:\\users\\gusta\\documents\\sgtpy\\sgtpy\\vrmie_pure\\saftvrmie.py:401: RuntimeWarning: divide by zero encountered in log\n",
      "  Kab = np.log((rc + 2*rd)/dia)\n",
      "c:\\users\\gusta\\documents\\sgtpy\\sgtpy\\vrmie_pure\\saftvrmie.py:404: RuntimeWarning: invalid value encountered in double_scalars\n",
      "  aux2 = (22*rd2 - 5*rc*rd - 7*rd*dia - 8*rc2 + rc*dia + dia2)\n",
      "c:\\users\\gusta\\documents\\sgtpy\\sgtpy\\vrmie_pure\\B_monomer.py:54: RuntimeWarning: invalid value encountered in double_scalars\n",
      "  ter1 = (1.-eta/2.)*Ilam/eta13 - 9.*eta*(1.+eta)*Jlam/(2.*eta13)\n",
      "c:\\users\\gusta\\documents\\sgtpy\\sgtpy\\vrmie_pure\\B_monomer.py:58: RuntimeWarning: invalid value encountered in double_scalars\n",
      "  db = Ilam*(-2. + (eta-2.)*eta) + Jlam*18.*eta*(1.+2.*eta)\n",
      "c:\\users\\gusta\\documents\\sgtpy\\sgtpy\\vrmie_pure\\B_monomer.py:62: RuntimeWarning: invalid value encountered in double_scalars\n",
      "  d2b = Ilam*(-5. + (eta-2.)*eta) + Jlam*9.*(1. + eta*(7.+4.*eta))\n",
      "c:\\users\\gusta\\documents\\sgtpy\\sgtpy\\vrmie_pure\\B_monomer.py:65: RuntimeWarning: invalid value encountered in double_scalars\n",
      "  d3b = Ilam*(9. - (eta-2.)*eta) - Jlam*36.*(1. + eta*(3. + eta))\n",
      "c:\\users\\gusta\\documents\\sgtpy\\sgtpy\\vrmie_pure\\monomer_aux.py:100: RuntimeWarning: invalid value encountered in matmul\n",
      "  d3neff = np.matmul(eta_vec, ci)\n",
      "c:\\users\\gusta\\documents\\sgtpy\\sgtpy\\vrmie_pure\\monomer_aux.py:51: RuntimeWarning: invalid value encountered in double_scalars\n",
      "  den = 1 + 4*eta+4*eta**2-4*eta**3 + eta**4\n",
      "c:\\users\\gusta\\documents\\sgtpy\\sgtpy\\vrmie_pure\\monomer_aux.py:59: RuntimeWarning: invalid value encountered in double_scalars\n",
      "  num4 = -624. - 4032. * eta - 576. * eta**2 + 16656. * eta**3-11424.*eta**4\n",
      "c:\\users\\gusta\\documents\\sgtpy\\sgtpy\\vrmie_pure\\monomer_aux.py:60: RuntimeWarning: invalid value encountered in double_scalars\n",
      "  num4 += -16896. * eta**5 + 34752. * eta**6 - 27936. * eta**7+13776.*eta**8\n",
      "c:\\users\\gusta\\documents\\sgtpy\\sgtpy\\vrmie_pure\\monomer_aux.py:61: RuntimeWarning: invalid value encountered in double_scalars\n",
      "  num4 += - 4416. * eta**9 + 768. * eta**10 - 48. * eta**11\n",
      "c:\\users\\gusta\\documents\\sgtpy\\sgtpy\\vrmie_pure\\aHS_monomer.py:18: RuntimeWarning: invalid value encountered in double_scalars\n",
      "  a = (4*eta - 3*eta**2)/(1-eta)**2\n",
      "c:\\users\\gusta\\documents\\sgtpy\\sgtpy\\vrmie_pure\\aHS_monomer.py:19: RuntimeWarning: invalid value encountered in double_scalars\n",
      "  da = 2*(-2+eta)/(-1+eta)**3\n",
      "c:\\users\\gusta\\documents\\sgtpy\\sgtpy\\vrmie_pure\\aHS_monomer.py:20: RuntimeWarning: invalid value encountered in double_scalars\n",
      "  d2a = (10-4*eta)/(-1+eta)**4\n",
      "c:\\users\\gusta\\documents\\sgtpy\\sgtpy\\vrmie_pure\\gdHS_chain.py:48: RuntimeWarning: invalid value encountered in log\n",
      "  k0 = -np.log(eta_1) + (42*eta - 39*eta2 + 9*eta3 - 2*eta4)/(6*eta_13)\n",
      "c:\\users\\gusta\\documents\\sgtpy\\sgtpy\\vrmie_pure\\gdHS_chain.py:48: RuntimeWarning: invalid value encountered in double_scalars\n",
      "  k0 = -np.log(eta_1) + (42*eta - 39*eta2 + 9*eta3 - 2*eta4)/(6*eta_13)\n",
      "c:\\users\\gusta\\documents\\sgtpy\\sgtpy\\vrmie_pure\\gdHS_chain.py:49: RuntimeWarning: invalid value encountered in double_scalars\n",
      "  k1 = (eta4 + 6*eta2 - 12*eta)/(2*eta_13)\n",
      "c:\\users\\gusta\\documents\\sgtpy\\sgtpy\\vrmie_pure\\gdHS_chain.py:50: RuntimeWarning: invalid value encountered in double_scalars\n",
      "  k2 = -3*eta2/(8*eta_1**2)\n",
      "c:\\users\\gusta\\documents\\sgtpy\\sgtpy\\vrmie_pure\\gdHS_chain.py:51: RuntimeWarning: invalid value encountered in double_scalars\n",
      "  k3 = (-eta4 + 3*eta2 + 3*eta)/(6*eta_13)\n",
      "c:\\users\\gusta\\documents\\sgtpy\\sgtpy\\vrmie_pure\\gdHS_chain.py:53: RuntimeWarning: invalid value encountered in double_scalars\n",
      "  dk0 = (24 + eta*(-6+eta*(3-7*eta+eta**2)))/(eta-1)**4/3\n",
      "c:\\users\\gusta\\documents\\sgtpy\\sgtpy\\vrmie_pure\\gdHS_chain.py:54: RuntimeWarning: invalid value encountered in double_scalars\n",
      "  dk1 = - (12 + eta*(2+eta)*(6-6*eta+eta2))/(eta-1)**4/2\n",
      "c:\\users\\gusta\\documents\\sgtpy\\sgtpy\\vrmie_pure\\gdHS_chain.py:55: RuntimeWarning: invalid value encountered in double_scalars\n",
      "  dk2 = 3*eta/(4*(-1+eta)**3)\n",
      "c:\\users\\gusta\\documents\\sgtpy\\sgtpy\\vrmie_pure\\gdHS_chain.py:56: RuntimeWarning: invalid value encountered in double_scalars\n",
      "  dk3 = (3+eta*(12+eta*(eta-3)*(eta-1)))/(6*(-1+eta)**4)\n",
      "c:\\users\\gusta\\documents\\sgtpy\\sgtpy\\vrmie_pure\\gdHS_chain.py:58: RuntimeWarning: invalid value encountered in double_scalars\n",
      "  d2k0 = (-30 + eta*(1+eta)*(4+eta))/(eta-1)**5\n",
      "c:\\users\\gusta\\documents\\sgtpy\\sgtpy\\vrmie_pure\\gdHS_chain.py:59: RuntimeWarning: invalid value encountered in double_scalars\n",
      "  d2k1 = 6*(5-2*eta*(eta-1))/(eta-1)**5\n",
      "c:\\users\\gusta\\documents\\sgtpy\\sgtpy\\vrmie_pure\\gdHS_chain.py:60: RuntimeWarning: invalid value encountered in double_scalars\n",
      "  d2k2 = -3*(1+2*eta)/(4*(eta-1)**4)\n",
      "c:\\users\\gusta\\documents\\sgtpy\\sgtpy\\vrmie_pure\\gdHS_chain.py:61: RuntimeWarning: invalid value encountered in double_scalars\n",
      "  d2k3 = (-4+eta*(eta-7))/((-1+eta)**5)\n",
      "c:\\users\\gusta\\documents\\sgtpy\\sgtpy\\vrmie_pure\\ares.py:240: RuntimeWarning: invalid value encountered in multiply\n",
      "  dgc *= drho[:3]\n",
      "c:\\users\\gusta\\documents\\sgtpy\\sgtpy\\vrmie_pure\\ares.py:258: RuntimeWarning: invalid value encountered in double_scalars\n",
      "  a_chain = - (self.ms - 1. + self.ring*eta)*d2lng\n",
      "c:\\users\\gusta\\documents\\sgtpy\\sgtpy\\vrmie_pure\\ideal.py:24: RuntimeWarning: invalid value encountered in sqrt\n",
      "  broglie_vol = h / np.sqrt(2*np.pi * me / beta)\n"
     ]
    },
    {
     "data": {
      "text/plain": [
       " final_simplex: (array([[  1.96834513,   4.54625563, 376.94035316,  18.34400627],\n",
       "       [  1.96834502,   4.54625559, 376.94031409,  18.34399954],\n",
       "       [  1.96834441,   4.54625617, 376.94044338,  18.34400805],\n",
       "       [  1.96834458,   4.54625598, 376.94039329,  18.34400432],\n",
       "       [  1.96834461,   4.54625598, 376.94033416,  18.34399723]]), array([0.00188235, 0.00188236, 0.00188236, 0.00188236, 0.00188236]))\n",
       "           fun: 0.0018823536739056624\n",
       "       message: 'Optimization terminated successfully.'\n",
       "          nfev: 233\n",
       "           nit: 128\n",
       "        status: 0\n",
       "       success: True\n",
       "             x: array([  1.96834513,   4.54625563, 376.94035316,  18.34400627])"
      ]
     },
     "execution_count": 4,
     "metadata": {},
     "output_type": "execute_result"
    }
   ],
   "source": [
    "# initial guess for ms, sigma, eps and lambda_r\n",
    "inc0 = np.array([2.0, 4.52313581 , 378.98125026,  19.00195008])\n",
    "minimize(fobj, inc0, method = 'Nelder-Mead')"
   ]
  }
 ],
 "metadata": {
  "kernelspec": {
   "display_name": "Python 3",
   "language": "python",
   "name": "python3"
  },
  "language_info": {
   "codemirror_mode": {
    "name": "ipython",
    "version": 3
   },
   "file_extension": ".py",
   "mimetype": "text/x-python",
   "name": "python",
   "nbconvert_exporter": "python",
   "pygments_lexer": "ipython3",
   "version": "3.9.6"
  }
 },
 "nbformat": 4,
 "nbformat_minor": 4
}
