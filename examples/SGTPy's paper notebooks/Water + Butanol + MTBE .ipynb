{
 "cells": [
  {
   "cell_type": "markdown",
   "metadata": {},
   "source": [
    "# Density Profile and IFT of mixture of Water + Butanol + MTBE\n",
    "\n",
    "First it's needed to import the necessary modules"
   ]
  },
  {
   "cell_type": "code",
   "execution_count": 1,
   "metadata": {},
   "outputs": [],
   "source": [
    "import numpy as np\n",
    "from sgtpy import component, mixture, saftvrmie\n",
    "from sgtpy.equilibrium import vlle, lle_init, tpd_min\n",
    "from sgtpy.sgt import sgt_mix\n",
    "import matplotlib.pyplot as plt "
   ]
  },
  {
   "cell_type": "markdown",
   "metadata": {},
   "source": [
    "The ternary mixture is created and then the interactions parameters are set. As MTBE can associate with Water and Butanol, this site/site interaction are set up manually modifying the ```eos.eABij``` and ```eos.rcij``` arrays. Finally, the $\\beta_{ij}$ corrections are set."
   ]
  },
  {
   "cell_type": "code",
   "execution_count": 2,
   "metadata": {},
   "outputs": [],
   "source": [
    "import numpy as np\n",
    "from sgtpy import component, mixture, saftvrmie\n",
    "\n",
    "water = component('water', ms = 1.7311, sigma = 2.4539 , eps = 110.85,\n",
    "                    lambda_r = 8.308, lambda_a = 6.,  eAB = 1991.07, rcAB = 0.5624,\n",
    "                    rdAB = 0.4, sites = [0,2,2], cii = 1.5371939421515455e-20)\n",
    "\n",
    "butanol = component('butanol2C', ms = 1.9651, sigma = 4.1077 , eps = 277.892,\n",
    "                    lambda_r = 10.6689, lambda_a = 6., eAB = 3300.0, rcAB = 0.2615,\n",
    "                    rdAB = 0.4, sites = [1,0,1], npol = 1.45, mupol = 1.6609,\n",
    "                    cii  = 1.5018715324070352e-19)\n",
    "\n",
    "mtbe = component('mtbe', ms =2.17847383,  sigma=  4.19140014, eps =  306.52083841,\n",
    "                 lambda_r = 14.74135198, lambda_a = 6.0, npol = 2.95094686,  \n",
    "                 mupol = 1.3611, sites = [0,0,1], cii =3.5779968517655445e-19 )\n",
    "\n",
    "mix = mixture(water, butanol)\n",
    "mix.add_component(mtbe)\n",
    "\n",
    "#butanol water\n",
    "k12, l12 = np.array([-0.00736075, -0.00737153])\n",
    "\n",
    "#mtbe butanol\n",
    "k23 = -0.0029995\n",
    "l23 = 0.\n",
    "rc23 =  1.90982649\n",
    "\n",
    "#mtbe water\n",
    "k13 = -0.07331438\n",
    "l13 = 0.\n",
    "rc13 = 2.84367922\n",
    "\n",
    "# setting up interaction corrections\n",
    "Kij = np.array([[0., k12, k13], [k12, 0., k23], [k13, k23, 0.]])\n",
    "Lij = np.array([[0., l12, l13], [l12, 0., l23], [l13, l23, 0.]])\n",
    "mix.kij_saft(Kij)\n",
    "mix.lij_saft(Lij)\n",
    "eos = saftvrmie(mix)\n",
    "\n",
    "# setting up induced association\n",
    "#mtbe water\n",
    "eos.eABij[0,2] = water.eAB / 2\n",
    "eos.eABij[2,0] = water.eAB / 2\n",
    "eos.rcij[0,2] = rc13 * 1e-10\n",
    "eos.rcij[2,0] = rc13 * 1e-10\n",
    "#mtbe butanol\n",
    "eos.eABij[2,1] = butanol.eAB / 2\n",
    "eos.eABij[1,2] = butanol.eAB / 2\n",
    "eos.rcij[2,1] = rc23 * 1e-10\n",
    "eos.rcij[1,2] = rc23 * 1e-10\n",
    "\n",
    "# optimized betas for SGT\n",
    "b12 = 0.0\n",
    "b13 = 0.05184890369269403\n",
    "b23 = 0.1031045671358926\n",
    "\n",
    "beta = np.array([[0., b12, b13], [b12, 0., b23], [b13, b23, 0.]])\n",
    "eos.beta_sgt(beta)"
   ]
  },
  {
   "cell_type": "markdown",
   "metadata": {},
   "source": [
    "The three phase equilibrium is computed with the ```vlle``` function. Initial guesses for the phase composition can be supplied for the user or by minimizing the tangent plane distance with the ```tpd_min``` function."
   ]
  },
  {
   "cell_type": "code",
   "execution_count": 3,
   "metadata": {},
   "outputs": [
    {
     "data": {
      "text/plain": [
       "(-0.08071750968213687, 4.5208281562736374e-13, -0.24043527731821834)"
      ]
     },
     "execution_count": 3,
     "metadata": {},
     "output_type": "execute_result"
    }
   ],
   "source": [
    "T = 345. #K\n",
    "P = 1.01325e5 # Pa\n",
    "#global composition\n",
    "z = np.array([0.5, 0.3, 0.2])\n",
    "\n",
    "# initial guess are computed with tpd minimization\n",
    "x0, tpdx  = tpd_min(np.array([0.9, 0.05, 0.05]), z, T, P, eos, stateW='L', stateZ='L')\n",
    "w0, tpdw = tpd_min(np.array([0.45, 0.45, 0.1]), z, T, P, eos, stateW='L', stateZ='L')\n",
    "y0, tpdy = tpd_min(np.array([0.33, 0.33, 0.33]), z, T, P, eos,  stateW='V', stateZ='L')\n",
    "tpdx, tpdw, tpdy # negative values implies a phase separation, zero are trivial solutions"
   ]
  },
  {
   "cell_type": "code",
   "execution_count": 4,
   "metadata": {},
   "outputs": [
    {
     "data": {
      "text/plain": [
       "array([0.28582249, 0.03942386, 0.67475365])"
      ]
     },
     "execution_count": 4,
     "metadata": {},
     "output_type": "execute_result"
    }
   ],
   "source": [
    "y0"
   ]
  },
  {
   "cell_type": "code",
   "execution_count": 5,
   "metadata": {},
   "outputs": [],
   "source": [
    "sol = vlle(x0, w0, y0, z, T, P, eos, full_output = True)\n",
    "#reading the solution information\n",
    "X, W, Y = sol.X\n",
    "vx, vw, vy = sol.v\n",
    "# computing density vectors \n",
    "rhox = X/vx\n",
    "rhow = W/vw\n",
    "rhoy = Y/vy"
   ]
  },
  {
   "cell_type": "markdown",
   "metadata": {},
   "source": [
    "The equilibrium results are used in SGT with the ```sgt_mix``` function."
   ]
  },
  {
   "cell_type": "code",
   "execution_count": 6,
   "metadata": {},
   "outputs": [],
   "source": [
    "#solving density profiles for organic - vapor interface\n",
    "solwy = sgt_mix(rhoy, rhow, T, P, eos, rho0 = 'hyperbolic', z0 = 15., dz = 0, full_output = True)"
   ]
  },
  {
   "cell_type": "code",
   "execution_count": 7,
   "metadata": {},
   "outputs": [],
   "source": [
    "#solving density profiles for organic - aqueous interface\n",
    "solxw = sgt_mix(rhow, rhox, T, P, eos, rho0 = 'hyperbolic', z0 = 15., dz = 0, full_output = True)"
   ]
  },
  {
   "cell_type": "markdown",
   "metadata": {},
   "source": [
    "By default, the ```sgt_mix``` function uses linear or hyperbolic like density profiles as initial guesses. These options work well for most scenarios, as for the organic-vapor and the organic-aquaous interfaces. \n",
    "\n",
    "For the vapor-aqueous density profiles a better initial guess is necessary, this can be done by joining the two previous solutions and interpolating then at the desired grid."
   ]
  },
  {
   "cell_type": "code",
   "execution_count": 8,
   "metadata": {},
   "outputs": [],
   "source": [
    "# Vapor aqueous density profiles are trickier to solve, a better initial guess is needed.\n",
    "\n",
    "from sgtpy import gauss\n",
    "from scipy.interpolate import interp1d\n",
    "\n",
    "# reading the density profiles from the previous calculations\n",
    "zwy = solwy.z\n",
    "zxw = solxw.z\n",
    "rxw = solxw.rho\n",
    "rwy = solwy.rho\n",
    "# joining the density profiles\n",
    "zxys = np.hstack([zwy[0:-1], zxw + zwy[-1]])\n",
    "rxys = np.hstack([rwy[:, 0:-1], rxw[:, :]])\n",
    "nroots = 30\n",
    "#generating nodes to interpolate the density profile\n",
    "roots, weights = gauss(nroots)\n",
    "zinter = 30.*roots\n",
    "#interpolate the density profile\n",
    "rinter = interp1d(zxys, rxys, kind= 'cubic')(zinter)\n",
    "#solving the densit profile using the generated profile as initial guess\n",
    "solxy = sgt_mix(rhoy, rhox, T, P, eos, n = nroots, rho0 = rinter, z0 = 30., dz = 0, full_output = True)"
   ]
  },
  {
   "cell_type": "code",
   "execution_count": 9,
   "metadata": {},
   "outputs": [
    {
     "data": {
      "text/plain": [
       "Text(0.5, 1.0, '(c) L$_1$-L$_2$')"
      ]
     },
     "execution_count": 9,
     "metadata": {},
     "output_type": "execute_result"
    },
    {
     "data": {
      "image/png": "[encoded data removed]",
      "text/plain": [
       "<Figure size 1080x288 with 3 Axes>"
      ]
     },
     "metadata": {
      "needs_background": "light"
     },
     "output_type": "display_data"
    }
   ],
   "source": [
    "zxy = solxy.z\n",
    "rxy = solxy.rho / 1000\n",
    "\n",
    "zwy = solwy.z\n",
    "rwy = solwy.rho / 1000\n",
    "\n",
    "zxw = solxw.z\n",
    "rxw = solxw.rho / 1000\n",
    "\n",
    "fig = plt.figure(figsize = (15, 4))\n",
    "fig.subplots_adjust(wspace = 0.3)\n",
    "ax1 = fig.add_subplot(131)\n",
    "ax2 = fig.add_subplot(132)\n",
    "ax3 = fig.add_subplot(133)\n",
    "\n",
    "\n",
    "ax2.plot(zwy, rwy[0], ':', color = 'k')\n",
    "ax2.plot(zwy, rwy[1], color = 'k')\n",
    "ax2.plot(zwy, rwy[2], '--',color = 'k')\n",
    "\n",
    "ax1.plot(zxy, rxy[0], ':', color = 'k')\n",
    "ax1.plot(zxy, rxy[1], color = 'k')\n",
    "ax1.plot(zxy, rxy[2], '--',color = 'k')\n",
    "\n",
    "ax3.plot(zxw, rxw[0], ':', color = 'k')\n",
    "ax3.plot(zxw, rxw[1], color = 'k')\n",
    "ax3.plot(zxw, rxw[2], '--',color = 'k')\n",
    "\n",
    "ax1.set_ylim([0, 60])\n",
    "ax2.set_ylim([0, 60])\n",
    "ax3.set_ylim([0, 60])\n",
    "\n",
    "ax1.set_xlim([0, 30])\n",
    "ax2.set_xlim([0, 15])\n",
    "ax3.set_xlim([0, 15])\n",
    "\n",
    "ax1.tick_params(direction = 'in')\n",
    "ax2.tick_params(direction = 'in')\n",
    "ax3.tick_params(direction = 'in')\n",
    "\n",
    "ax1.set_ylabel(r'$\\rho$ / kmol m$^{-3}$')\n",
    "ax2.set_ylabel(r'$\\rho$ / kmol m$^{-3}$')\n",
    "ax3.set_ylabel(r'$\\rho$ / kmol m$^{-3}$')\n",
    "\n",
    "ax1.set_xlabel(r'z / $\\rm \\AA$')\n",
    "ax2.set_xlabel(r'z / $\\rm \\AA$')\n",
    "ax3.set_xlabel(r'z / $\\rm \\AA$')\n",
    "\n",
    "ax1.set_title(r'(a) V-L$_2$')\n",
    "ax2.set_title(r'(b) V-L$_1$')\n",
    "ax3.set_title(r'(c) L$_1$-L$_2$')\n"
   ]
  },
  {
   "cell_type": "code",
   "execution_count": null,
   "metadata": {},
   "outputs": [],
   "source": []
  }
 ],
 "metadata": {
  "kernelspec": {
   "display_name": "Python 3",
   "language": "python",
   "name": "python3"
  },
  "language_info": {
   "codemirror_mode": {
    "name": "ipython",
    "version": 3
   },
   "file_extension": ".py",
   "mimetype": "text/x-python",
   "name": "python",
   "nbconvert_exporter": "python",
   "pygments_lexer": "ipython3",
   "version": "3.9.6"
  }
 },
 "nbformat": 4,
 "nbformat_minor": 4
}
