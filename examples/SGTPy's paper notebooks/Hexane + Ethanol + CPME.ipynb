{
 "cells": [
  {
   "cell_type": "markdown",
   "metadata": {},
   "source": [
    "# Density Profile and IFT of mixture of Hexane + Ethanol and CPME\n",
    "\n",
    "First it's needed to import the necessary modules"
   ]
  },
  {
   "cell_type": "code",
   "execution_count": 1,
   "metadata": {},
   "outputs": [],
   "source": [
    "import numpy as np\n",
    "import matplotlib.pyplot as plt\n",
    "\n",
    "from sgtpy import component, mixture, saftvrmie\n",
    "from sgtpy.equilibrium import bubblePy\n",
    "from sgtpy.sgt import sgt_mix\n"
   ]
  },
  {
   "cell_type": "markdown",
   "metadata": {},
   "source": [
    "The ternary mixture is created and then the interactions parameters are set. As CPME can associate with Ethanol, this site/site interaction are set up manually modifying the ```eos.eABij``` and ```eos.rcij``` arrays. Finally, the $\\beta_{ij}$ corrections are set."
   ]
  },
  {
   "cell_type": "code",
   "execution_count": 2,
   "metadata": {},
   "outputs": [],
   "source": [
    "ethanol = component('ethanol2C', ms = 1.7728, sigma = 3.5592 , eps = 224.50,\n",
    "                    lambda_r = 11.319, lambda_a = 6., eAB = 3018.05, rcAB = 0.3547,\n",
    "                    rdAB = 0.4, sites = [1,0,1], cii= 5.3141080872882285e-20)\n",
    "\n",
    "cpme = component('cpme', ms =  2.32521144, sigma = 4.13606074, eps = 343.91193798, lambda_r = 14.15484877, \n",
    "                 lambda_a = 6.0, npol = 1.91990385,mupol = 1.27, sites =[0,0,1], cii = 3.5213681817448466e-19)\n",
    "\n",
    "hexane = component('hexane', ms = 1.96720036, sigma = 4.54762477, eps = 377.60127994, \n",
    "                   lambda_r = 18.41193194, npol = 0., cii = 3.581510586936205e-19 )\n",
    "\n",
    "# creating mixture\n",
    "mix = mixture(hexane, ethanol)\n",
    "mix.add_component(cpme)\n",
    "\n",
    "# setting kij corrections\n",
    "k12 = 0.011818492037463553\n",
    "k13 = 0.0008700151297528677\n",
    "k23 =  0.01015194\n",
    "Kij = np.array([[0., k12, k13], [k12, 0., k23], [k13, k23, 0.]])\n",
    "mix.kij_saft(Kij)\n",
    "\n",
    "eos = saftvrmie(mix)\n",
    "\n",
    "# cross associationg set up \n",
    "rc = 2.23153033\n",
    "eos.eABij[1,2] = ethanol.eAB / 2\n",
    "eos.eABij[2,1] = ethanol.eAB / 2\n",
    "eos.rcij[1,2] = rc * 1e-10\n",
    "eos.rcij[2,1] = rc * 1e-10\n",
    "\n",
    "# setting beta corrections for SGT\n",
    "b12 = 0.05719272059410664\n",
    "b13 = 0.0\n",
    "b23 = 0.0358453055603665\n",
    "\n",
    "beta = np.array([[0., b12, b13],\n",
    "                [b12, 0., b23],\n",
    "                [b13, b23, 0.]])\n",
    "\n",
    "eos.beta_sgt(beta)"
   ]
  },
  {
   "cell_type": "markdown",
   "metadata": {},
   "source": [
    "Now it is necessary to compute the equilibria pressure. This bubble point is computed with the ```bubblePy``` function. Further information about this function can be found running ```bubblePy?```."
   ]
  },
  {
   "cell_type": "code",
   "execution_count": 3,
   "metadata": {},
   "outputs": [
    {
     "data": {
      "text/plain": [
       "      T: 298.15\n",
       "      P: 25046.06150944494\n",
       "  error: 7.325473561081708e-12\n",
       "   iter: 5\n",
       "      X: array([0.906, 0.071, 0.023])\n",
       "     v1: 0.00012629072366908533\n",
       "  Xassl: array([0.16365061, 0.42830657, 0.85732395])\n",
       " state1: 'Liquid'\n",
       "      Y: array([0.77117555, 0.22352795, 0.0052965 ])\n",
       "     v2: 0.09772467726138466\n",
       "  Xassv: array([0.98128651, 0.99061242, 0.99887325])\n",
       " state2: 'Vapor'"
      ]
     },
     "execution_count": 3,
     "metadata": {},
     "output_type": "execute_result"
    }
   ],
   "source": [
    "# computing bubble points\n",
    "X = np.array([0.906, 0.071,0.023])\n",
    "T = 298.15 # K\n",
    "\n",
    "# initial guesses for pressure and vapor composition\n",
    "P0 = 20000. # Pa\n",
    "y0 = np.array([0.7, 0.2, 0.1])\n",
    "\n",
    "sol  = bubblePy(y0, P0, X, T, eos, full_output = True)\n",
    "sol"
   ]
  },
  {
   "cell_type": "markdown",
   "metadata": {},
   "source": [
    "The results are used to compute the density vectors and the SGT is applied with the ```sgt_mix``` function. Further information about this function can be found running ```sgt_mix?```."
   ]
  },
  {
   "cell_type": "code",
   "execution_count": 4,
   "metadata": {},
   "outputs": [],
   "source": [
    "# reading solution object\n",
    "Y, P = sol.Y, sol.P\n",
    "vl, vv = sol.v1, sol.v2\n",
    "\n",
    "#density vector of each phase\n",
    "rhox = X/vl\n",
    "rhoy = Y/vv"
   ]
  },
  {
   "cell_type": "code",
   "execution_count": 5,
   "metadata": {},
   "outputs": [],
   "source": [
    "solsgt = sgt_mix(rhoy, rhox, T, P, eos, n = 25, full_output = True)"
   ]
  },
  {
   "cell_type": "code",
   "execution_count": 6,
   "metadata": {},
   "outputs": [
    {
     "data": {
      "text/plain": [
       "Text(0, 0.5, '$\\\\rho$ / kmol m$^{-3}$')"
      ]
     },
     "execution_count": 6,
     "metadata": {},
     "output_type": "execute_result"
    },
    {
     "data": {
      "image/png": "[encoded data removed]",
      "text/plain": [
       "<Figure size 432x288 with 1 Axes>"
      ]
     },
     "metadata": {
      "needs_background": "light"
     },
     "output_type": "display_data"
    }
   ],
   "source": [
    "# density paths in kmol/m3\n",
    "rho = solsgt.rho / 1000\n",
    "z = solsgt.z # in Amstrong\n",
    "\n",
    "plt.plot(z, rho[0], color= 'k')\n",
    "plt.plot(z, rho[1], '--',color = 'k')\n",
    "plt.plot(z, rho[2], ':', color = 'k')\n",
    "plt.xlabel(r'z / $\\rm \\AA$')\n",
    "plt.ylabel(r'$\\rho$ / kmol m$^{-3}$')"
   ]
  },
  {
   "cell_type": "code",
   "execution_count": null,
   "metadata": {},
   "outputs": [],
   "source": []
  }
 ],
 "metadata": {
  "kernelspec": {
   "display_name": "Python 3",
   "language": "python",
   "name": "python3"
  },
  "language_info": {
   "codemirror_mode": {
    "name": "ipython",
    "version": 3
   },
   "file_extension": ".py",
   "mimetype": "text/x-python",
   "name": "python",
   "nbconvert_exporter": "python",
   "pygments_lexer": "ipython3",
   "version": "3.9.6"
  }
 },
 "nbformat": 4,
 "nbformat_minor": 4
}
