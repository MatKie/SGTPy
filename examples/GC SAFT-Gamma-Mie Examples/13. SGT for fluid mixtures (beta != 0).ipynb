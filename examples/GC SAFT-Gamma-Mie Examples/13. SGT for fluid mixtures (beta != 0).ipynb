{
 "cells": [
  {
   "cell_type": "markdown",
   "metadata": {},
   "source": [
    "# SGT ($\\beta \\neq 0 $) calculation for fluids mixtures with SAFT-$\\gamma$-Mie\n",
    "\n",
    "In this notebook, the SGT ($\\beta \\neq 0 $) calculations for fluid mixtures with ```saftgammamie``` EoS are illustrated.\n",
    "\n",
    "When using $\\beta \\neq 0 $, the cross-influence parameters are computed as $c_{ij} = (1-\\beta_{ij})\\sqrt{c_{ii}c_{jj}}$.\n",
    "\n",
    "First, all the needed modules are imported.\n",
    "\n",
    "- NumPy: numerical interface and work with arrays\n",
    "- matplotlib: to plot results\n",
    "- SGTPy: package with SAFT-$\\gamma$-Mie EoS and SGT functions."
   ]
  },
  {
   "cell_type": "code",
   "execution_count": 1,
   "metadata": {},
   "outputs": [],
   "source": [
    "import numpy as np\n",
    "import matplotlib.pyplot as plt\n",
    "from SGTPy import component, mixture, saftgammamie"
   ]
  },
  {
   "cell_type": "markdown",
   "metadata": {},
   "source": [
    "Now, pure components are configured and created with the ```component``` function. To use SGT it is required to set the influence parameter (```cii```) for the pure fluids. Then, a mixture is created with them using the ```mixture``` function or by adding (`+`) pure components. The interaction parameters are set up with the ```mixture.saftgammamie``` method. Finally, the ```eos``` object is created with the ```saftgammamie``` function.\n",
    "\n",
    "The ```eos``` object includes all the necessary methods to compute phase equilibria and interfacial properties using SAFT-$\\gamma$-Mie EoS.\n",
    "\n",
    "For this notebook, the calculations are exemplified for the mixture of ethanol + water and the mixture of hexane + ethanol."
   ]
  },
  {
   "cell_type": "code",
   "execution_count": 2,
   "metadata": {},
   "outputs": [],
   "source": [
    "ethanol = component(GC={'CH3':1, 'CH2OH':1}, cii=4.1388468864244875e-20)\n",
    "water = component(GC={'H2O':1}, cii=1.6033244745871344e-20)\n",
    "\n",
    "# creating mixture with mixture class function\n",
    "mix1 = mixture(ethanol, water)\n",
    "# or creating mixture by adding pure components\n",
    "mix1 = ethanol + water\n",
    "\n",
    "mix1.saftgammamie()\n",
    "eos1 = saftgammamie(mix1)"
   ]
  },
  {
   "cell_type": "markdown",
   "metadata": {},
   "source": [
    "Now, it is required to compute the phase equilibria (VLE, LLE or VLLE). See Notebooks 5 to 10 for more information about phase equilibria computation.\n",
    "\n",
    "In this example, the bubble point of the mixture of ethanol and water at $x_1=0.2$ and 298.15K is computed."
   ]
  },
  {
   "cell_type": "code",
   "execution_count": 3,
   "metadata": {},
   "outputs": [],
   "source": [
    "from SGTPy.equilibrium import bubblePy\n",
    "\n",
    "T = 298.15 # K\n",
    "# liquid composition\n",
    "x = np.array([0.2, 0.8])\n",
    "# initial guesses\n",
    "P0 = 1e4 # Pa\n",
    "y0 = np.array([0.8, 0.2])\n",
    "sol = bubblePy(y0, P0, x, T, eos1, full_output=True)\n",
    "y, P = sol.Y, sol.P\n",
    "vl, vv = sol.v1, sol.v2\n",
    "rhol = x/vl\n",
    "rhov = y/vv"
   ]
  },
  {
   "cell_type": "markdown",
   "metadata": {},
   "source": [
    "The function ```sgt_mix_beta0``` is used to study the interfacial behavior with SGT and $\\beta=0$. AS shown in Notebook 12, Liang method can compute the density paths correctly."
   ]
  },
  {
   "cell_type": "code",
   "execution_count": 4,
   "metadata": {},
   "outputs": [],
   "source": [
    "from SGTPy.sgt import sgt_mix_beta0\n",
    "bij = 0.0\n",
    "beta = np.array([[0, bij], [bij, 0]])\n",
    "eos1.beta_sgt(beta)\n",
    "soll = sgt_mix_beta0(rhov, rhol, T, P, eos1, n=300, method='liang', full_output=True)"
   ]
  },
  {
   "cell_type": "markdown",
   "metadata": {},
   "source": [
    "When using $\\beta \\neq 0$ two options are available to solve SGT.\n",
    "\n",
    "- ```sgt_mix```: solves SGT system as a boundary value problem using orthogonal collocation (increasing interfacial length).\n",
    "- ```msgt_mix```: solves a stabilized SGT system as a boundary value problem using orthogonal collocation (fixed interfacial length)."
   ]
  },
  {
   "cell_type": "code",
   "execution_count": 5,
   "metadata": {},
   "outputs": [],
   "source": [
    "from SGTPy.sgt import sgt_mix\n",
    "\n",
    "bij = 0.2\n",
    "beta = np.array([[0, bij], [bij, 0]])\n",
    "eos1.beta_sgt(beta)\n",
    "solbeta = sgt_mix(rhov, rhol, T, P, eos1, full_output=True)"
   ]
  },
  {
   "cell_type": "code",
   "execution_count": 6,
   "metadata": {},
   "outputs": [],
   "source": [
    "from SGTPy.sgt import msgt_mix\n",
    "bij = 0.5\n",
    "beta = np.array([[0, bij], [bij, 0]])\n",
    "eos1.beta_sgt(beta)\n",
    "msolbeta = msgt_mix(rhov, rhol, T, P, eos1, rho0 = solbeta,  full_output=True)"
   ]
  },
  {
   "cell_type": "markdown",
   "metadata": {},
   "source": [
    "The interfacial tension results are shown below."
   ]
  },
  {
   "cell_type": "code",
   "execution_count": 7,
   "metadata": {},
   "outputs": [
    {
     "name": "stdout",
     "output_type": "stream",
     "text": [
      "Liang path Function:  35.70200225949396 mN/m\n",
      "SGT BVP:  35.50582328545892 mN/m\n",
      "Modified SGT BVP:  34.356558230557376 mN/m\n"
     ]
    }
   ],
   "source": [
    "print('Liang path Function: ', soll.tension, 'mN/m')\n",
    "print('SGT BVP: ', solbeta.tension, 'mN/m')\n",
    "print('Modified SGT BVP: ', msolbeta.tension, 'mN/m')"
   ]
  },
  {
   "cell_type": "markdown",
   "metadata": {},
   "source": [
    "The density profiles are plotted below. It can be seen that using a $\\beta$ correction smooths the density profiles."
   ]
  },
  {
   "cell_type": "code",
   "execution_count": 8,
   "metadata": {},
   "outputs": [
    {
     "data": {
      "text/plain": [
       "Text(0.5, 0, 'path function / 1000')"
      ]
     },
     "execution_count": 8,
     "metadata": {},
     "output_type": "execute_result"
    },
    {
     "data": {
      "image/png": "[encoded data removed]",
      "text/plain": [
       "<Figure size 720x288 with 2 Axes>"
      ]
     },
     "metadata": {
      "needs_background": "light"
     },
     "output_type": "display_data"
    }
   ],
   "source": [
    "rhobeta = solbeta.rho  / 1000  # kmol/m3\n",
    "mrhobeta = msolbeta.rho / 1000  # kmol/m3\n",
    "\n",
    "rholiang =  soll.rho / 1000  # kmol/m3\n",
    "alphas = soll.alphas\n",
    "path = soll.path\n",
    "\n",
    "fig = plt.figure(figsize = (10, 4))\n",
    "fig.subplots_adjust( wspace=0.3)\n",
    "ax1 = fig.add_subplot(121)\n",
    "ax1.plot(rholiang[0], rholiang[1], color = 'red')\n",
    "ax1.plot(rhobeta[0], rhobeta[1], 's', color = 'blue')\n",
    "ax1.plot(mrhobeta[0], mrhobeta[1], '--', color = 'black')\n",
    "ax1.plot(rhov[0]/1000, rhov[1]/1000, 'o', color = 'k')\n",
    "ax1.plot(rhol[0]/1000, rhol[1]/1000, 'o', color = 'k')\n",
    "ax1.set_xlabel(r'$\\rho_1$ /  kmol m$^{-3}$')\n",
    "ax1.set_ylabel(r'$\\rho_2$ / kmol m$^{-3}$')\n",
    "\n",
    "ax2 = fig.add_subplot(122)\n",
    "ax2.plot(path/1000, alphas)\n",
    "ax2.axhline(y = 0, linestyle = '--',color = 'r')\n",
    "ax2.set_ylabel(r'$\\alpha$')\n",
    "ax2.set_xlabel(r'path function / 1000')"
   ]
  },
  {
   "cell_type": "markdown",
   "metadata": {},
   "source": [
    "## Hexane - Ethanol\n",
    "\n",
    "The interfacial behavior of this mixture is well known to be difficult to study as its displays multiple stationary points in the inhomogeneous zone. "
   ]
  },
  {
   "cell_type": "code",
   "execution_count": 9,
   "metadata": {},
   "outputs": [],
   "source": [
    "hexane = component(GC={'CH3':2, 'CH2':4}, cii=3.288396028761707e-19)\n",
    "\n",
    "mix2 = mixture(hexane, ethanol)\n",
    "mix2.saftgammamie()\n",
    "eos2 = saftgammamie(mix2)"
   ]
  },
  {
   "cell_type": "markdown",
   "metadata": {},
   "source": [
    "In this example, the bubble point of the mixture at $x_1=0.3$ and 298.15K is computed with the ```bubblePy``` function."
   ]
  },
  {
   "cell_type": "code",
   "execution_count": 10,
   "metadata": {},
   "outputs": [
    {
     "data": {
      "text/plain": [
       "      T: 298.15\n",
       "      P: 24565.962191556984\n",
       "  error: 4.466405023606512e-11\n",
       "   iter: 7\n",
       "      X: array([0.3, 0.7])\n",
       "     v1: 7.87121343627909e-05\n",
       "  Xassl: array([0.07624009, 0.53812004])\n",
       " state1: 'Liquid'\n",
       "      Y: array([0.72958876, 0.27041124])\n",
       "     v2: 0.09980764886547946\n",
       "  Xassv: array([0.99406146, 0.99703073])\n",
       " state2: 'Vapor'"
      ]
     },
     "execution_count": 10,
     "metadata": {},
     "output_type": "execute_result"
    }
   ],
   "source": [
    "T = 298.15 # K\n",
    "x = np.array([0.3, 0.7])\n",
    "y0 = 1.*x\n",
    "P0 = 8000. # Pa\n",
    "sol = bubblePy(y0, P0, x, T, eos2, full_output=True)\n",
    "y, P = sol.Y, sol.P\n",
    "vl, vv = sol.v1, sol.v2\n",
    "rhox = x/vl\n",
    "rhoy = y/vv\n",
    "sol"
   ]
  },
  {
   "cell_type": "markdown",
   "metadata": {},
   "source": [
    "The function ```sgt_mix_beta0``` is used to study the interfacial behavior with SGT and $\\beta=0$. AS shown in Notebook 12, Liang method can compute the density paths correctly."
   ]
  },
  {
   "cell_type": "code",
   "execution_count": 11,
   "metadata": {},
   "outputs": [
    {
     "name": "stderr",
     "output_type": "stream",
     "text": [
      "C:\\Users\\Gusta\\anaconda3\\lib\\site-packages\\sgtpy-0.0.12-py3.8-win-amd64.egg\\SGTPy\\gammamie_mixtures\\ahs_monomer.py:121: RuntimeWarning: invalid value encountered in log\n",
      "  log3 = np.log(xhi3_1)\n",
      "C:\\Users\\Gusta\\anaconda3\\lib\\site-packages\\sgtpy-0.0.12-py3.8-win-amd64.egg\\SGTPy\\gammamie_mixtures\\gdHS_chain.py:134: RuntimeWarning: invalid value encountered in log\n",
      "  k0 = -np.log(xhix_1) + (42*xhix - 39*xhix2 + 9*xhix3 - 2*xhix4)/(6*xhix_13)\n",
      "C:\\Users\\Gusta\\anaconda3\\lib\\site-packages\\sgtpy-0.0.12-py3.8-win-amd64.egg\\SGTPy\\gammamie_mixtures\\ares.py:926: RuntimeWarning: invalid value encountered in log\n",
      "  aux1 = np.log(Xass) - Xass/2 + 1/2\n"
     ]
    }
   ],
   "source": [
    "soll2 = sgt_mix_beta0(rhoy, rhox, T, P, eos2, n=300, method='liang', full_output=True)"
   ]
  },
  {
   "cell_type": "markdown",
   "metadata": {},
   "source": [
    "SGT is solved with $\\beta = 0.2$ and $\\beta = 0.5$ using the ```sgt_mix``` and ```msgt_mix``` function."
   ]
  },
  {
   "cell_type": "code",
   "execution_count": 12,
   "metadata": {},
   "outputs": [],
   "source": [
    "bij = 0.2\n",
    "beta = np.array([[0, bij], [bij, 0]])\n",
    "eos2.beta_sgt(beta)\n",
    "solbeta = sgt_mix(rhoy, rhox, T, P, eos2, full_output=True)"
   ]
  },
  {
   "cell_type": "code",
   "execution_count": 13,
   "metadata": {},
   "outputs": [],
   "source": [
    "bij = 0.5\n",
    "beta = np.array([[0, bij], [bij, 0]])\n",
    "eos2.beta_sgt(beta)\n",
    "msolbeta = msgt_mix(rhoy, rhox, T, P, eos2, rho0=solbeta, full_output=True)"
   ]
  },
  {
   "cell_type": "markdown",
   "metadata": {},
   "source": [
    "The interfacial tension results are shown below."
   ]
  },
  {
   "cell_type": "code",
   "execution_count": 14,
   "metadata": {},
   "outputs": [
    {
     "name": "stdout",
     "output_type": "stream",
     "text": [
      "Liang path Function:  16.353369314683754 mN/m\n",
      "SGT BVP:  16.771852771674972 mN/m\n",
      "Modified SGT BVP:  16.006470308753357 mN/m\n"
     ]
    }
   ],
   "source": [
    "print('Liang path Function: ', soll2.tension, 'mN/m')\n",
    "print('SGT BVP: ', solbeta.tension, 'mN/m')\n",
    "print('Modified SGT BVP: ', msolbeta.tension, 'mN/m')"
   ]
  },
  {
   "cell_type": "markdown",
   "metadata": {},
   "source": [
    "The density profiles are plotted below. It can be seen that using a $\\beta$ correction smooths the density profiles and reduces the number of stationary points."
   ]
  },
  {
   "cell_type": "code",
   "execution_count": 15,
   "metadata": {},
   "outputs": [
    {
     "data": {
      "image/png": "[encoded data removed]",
      "text/plain": [
       "<Figure size 720x288 with 2 Axes>"
      ]
     },
     "metadata": {
      "needs_background": "light"
     },
     "output_type": "display_data"
    }
   ],
   "source": [
    "rhobeta = solbeta.rho  / 1000  # kmol/m3\n",
    "mrhobeta = msolbeta.rho / 1000  # kmol/m3\n",
    "\n",
    "rholiang =  soll2.rho / 1000 # kmol/m3\n",
    "alphas = soll2.alphas\n",
    "path = soll2.path\n",
    "\n",
    "fig = plt.figure(figsize = (10, 4))\n",
    "fig.subplots_adjust( wspace=0.3)\n",
    "ax1 = fig.add_subplot(121)\n",
    "ax1.plot(rholiang[0], rholiang[1], color = 'red')\n",
    "ax1.plot(rhobeta[0], rhobeta[1], 's', color = 'blue')\n",
    "ax1.plot(mrhobeta[0], mrhobeta[1], '--', color = 'black')\n",
    "\n",
    "ax1.plot(rhoy[0]/1000, rhoy[1]/1000, 'o', color = 'k')\n",
    "ax1.plot(rhox[0]/1000, rhox[1]/1000, 'o', color = 'k')\n",
    "ax1.set_xlabel(r'$\\rho_1$ /  kmol m$^{-3}$')\n",
    "ax1.set_ylabel(r'$\\rho_2$ / kmol m$^{-3}$')\n",
    "\n",
    "ax2 = fig.add_subplot(122)\n",
    "ax2.plot(path/1000, alphas)\n",
    "ax2.axhline(y = 0, linestyle = '--',color = 'r')\n",
    "ax2.set_ylabel(r'$\\alpha$')\n",
    "ax2.set_xlabel(r'path function / 1000')\n",
    "\n",
    "ax1.tick_params(direction='in')\n",
    "ax2.tick_params(direction='in')\n",
    "# fig.savefig('sgt_mix.pdf')"
   ]
  },
  {
   "cell_type": "markdown",
   "metadata": {},
   "source": [
    "For further information of any of these functions just run: ```function?```"
   ]
  }
 ],
 "metadata": {
  "kernelspec": {
   "display_name": "Python 3",
   "language": "python",
   "name": "python3"
  },
  "language_info": {
   "codemirror_mode": {
    "name": "ipython",
    "version": 3
   },
   "file_extension": ".py",
   "mimetype": "text/x-python",
   "name": "python",
   "nbconvert_exporter": "python",
   "pygments_lexer": "ipython3",
   "version": "3.8.3"
  }
 },
 "nbformat": 4,
 "nbformat_minor": 4
}
