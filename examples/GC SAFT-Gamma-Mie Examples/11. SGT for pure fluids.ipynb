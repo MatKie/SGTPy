{
 "cells": [
  {
   "cell_type": "markdown",
   "metadata": {},
   "source": [
    "# SGT calculation pure fluids with SAFT-$\\gamma$-Mie\n",
    "\n",
    "In this notebook, the SGT calculations for pure fluids with ```saftgammamie``` EoS are illustrated.\n",
    "\n",
    "First, all the needed modules are imported.\n",
    "\n",
    "- NumPy: numerical interface and work with arrays\n",
    "- pandas: to read a file with experimental information\n",
    "- matplotlib: to plot results\n",
    "- SGTPy: package with SAFT-$\\gamma$-Mie EoS and SGT functions."
   ]
  },
  {
   "cell_type": "code",
   "execution_count": 1,
   "metadata": {},
   "outputs": [],
   "source": [
    "import matplotlib.pyplot as plt\n",
    "import pandas as pd\n",
    "import numpy as np\n",
    "from SGTPy import component, saftgammamie"
   ]
  },
  {
   "cell_type": "markdown",
   "metadata": {},
   "source": [
    "Now, pure components are configured and created with the ```component``` function. Then, in order to read the database you need to run the ```component.saftgammamie``` method.\n",
    "\n",
    "Finally, the function ```saftgammamie``` is used to create the final EoS object.\n",
    "\n",
    "For this notebook, all calculations are exemplified for pure water."
   ]
  },
  {
   "cell_type": "code",
   "execution_count": 2,
   "metadata": {},
   "outputs": [],
   "source": [
    "water = component(GC={'H2O':1})\n",
    "water.saftgammamie()\n",
    "eos = saftgammamie(water)"
   ]
  },
  {
   "cell_type": "markdown",
   "metadata": {},
   "source": [
    "In order to use SGT, we need to fit the influence parameter to experimental data. (Experimental data obtained from NIST webbook)"
   ]
  },
  {
   "cell_type": "code",
   "execution_count": 3,
   "metadata": {},
   "outputs": [],
   "source": [
    "# Experimental data from NIST webbook\n",
    "Tsat = np.array([300., 310., 320., 330., 340., 350., 360., 370., 380., 390., 400.])  # K\n",
    "Psat = np.array([3536.8, 6231.1, 10546., 17213., 27188., 41682., 62194., 90535., 128850., 179640., 245770.]) # Pa\n",
    "rhol = np.array([55315., 55139., 54919., 54662., 54371., 54049., 53698., 53321., 52918., 52490., 52038.])  # mol/m3\n",
    "rhov = np.array([1.4204, 2.4237, 3.9778, 6.3042, 9.6808, 14.448, 21.014, 29.859, 41.537, 56.683, 76.014])  # mol/m3\n",
    "iftexp = np.array([71.686, 70.106, 68.47 , 66.781, 65.04 , 63.248, 61.406, 59.517, 57.581, 55.601, 53.578]) # mN/m"
   ]
  },
  {
   "cell_type": "markdown",
   "metadata": {},
   "source": [
    "It is necessary to compute the phase equilibria at the given saturation temperatures. This is done with the ```eos.psat``` method."
   ]
  },
  {
   "cell_type": "code",
   "execution_count": 4,
   "metadata": {},
   "outputs": [],
   "source": [
    "#Pure component pressure and liquid density\n",
    "P = np.zeros_like(Psat) \n",
    "vl = np.zeros_like(rhol)\n",
    "vv = np.zeros_like(rhov)\n",
    "\n",
    "n= len(Psat)\n",
    "i = 0 \n",
    "P[i], vl[i], vv[i] = eos.psat(Tsat[i], Psat[i])\n",
    "\n",
    "for i in range(1, n):\n",
    "    P[i], vl[i], vv[i] = eos.psat(Tsat[i], Psat[i], v0 = [vl[i-1], vv[i-1]])\n",
    "\n",
    "rhosaftl = 1/vl\n",
    "rhosaftv = 1/vv"
   ]
  },
  {
   "cell_type": "markdown",
   "metadata": {},
   "source": [
    "The saturation pressure and densities are used to fit the influence parameter with the ```fit_cii``` function.\n",
    "\n",
    "Finally, the IFT is computed with the ```sgt_pure``` function."
   ]
  },
  {
   "cell_type": "code",
   "execution_count": 5,
   "metadata": {},
   "outputs": [
    {
     "name": "stdout",
     "output_type": "stream",
     "text": [
      "fitted influence parameter:  1.603324474587135e-20 J m^5/mol^2\n"
     ]
    },
    {
     "name": "stderr",
     "output_type": "stream",
     "text": [
      "C:\\Users\\Gusta\\anaconda3\\lib\\site-packages\\sgtpy-0.0.12-py3.8-win-amd64.egg\\SGTPy\\sgt\\sgtpure.py:64: RuntimeWarning: invalid value encountered in sqrt\n",
      "  tenint = np.nan_to_num(np.sqrt(2*dOm))\n"
     ]
    }
   ],
   "source": [
    "from SGTPy.fit import fit_cii\n",
    "from SGTPy.sgt import sgt_pure\n",
    "\n",
    "cii = fit_cii(iftexp, Tsat, P, rhosaftl, rhosaftv, eos)\n",
    "print('fitted influence parameter: ', cii, 'J m^5/mol^2')\n",
    "\n",
    "water = component(GC={'H2O':1}, cii=cii)\n",
    "water.saftgammamie()\n",
    "eos = saftgammamie(water)\n",
    "\n",
    "# computing IFT in mN/m\n",
    "ift = np.zeros_like(iftexp)\n",
    "for i in range(n):\n",
    "    ift[i] = sgt_pure(rhosaftv[i], rhosaftl[i], Tsat[i], Psat[i], eos)"
   ]
  },
  {
   "cell_type": "markdown",
   "metadata": {},
   "source": [
    "The results are plotted below."
   ]
  },
  {
   "cell_type": "code",
   "execution_count": 6,
   "metadata": {},
   "outputs": [
    {
     "data": {
      "image/png": "[encoded data removed]",
      "text/plain": [
       "<Figure size 360x360 with 1 Axes>"
      ]
     },
     "metadata": {
      "needs_background": "light"
     },
     "output_type": "display_data"
    }
   ],
   "source": [
    "fig = plt.figure(figsize = (5, 5))\n",
    "\n",
    "ax2 = fig.add_subplot(111)\n",
    "ax2.plot(Tsat, iftexp, 's', color='k')\n",
    "ax2.plot(Tsat, ift, color='k')\n",
    "ax2.set_xlabel('T / K')\n",
    "ax2.set_ylabel(r'$\\gamma$ / mN m$^{-1}$')\n",
    "\n",
    "ax2.tick_params(direction='in')\n",
    "# fig.savefig('sgt_pure.pdf')"
   ]
  },
  {
   "cell_type": "markdown",
   "metadata": {},
   "source": [
    "For further information of any of these functions just run: ```function?```"
   ]
  },
  {
   "cell_type": "code",
   "execution_count": null,
   "metadata": {},
   "outputs": [],
   "source": []
  }
 ],
 "metadata": {
  "kernelspec": {
   "display_name": "Python 3",
   "language": "python",
   "name": "python3"
  },
  "language_info": {
   "codemirror_mode": {
    "name": "ipython",
    "version": 3
   },
   "file_extension": ".py",
   "mimetype": "text/x-python",
   "name": "python",
   "nbconvert_exporter": "python",
   "pygments_lexer": "ipython3",
   "version": "3.8.3"
  }
 },
 "nbformat": 4,
 "nbformat_minor": 4
}
