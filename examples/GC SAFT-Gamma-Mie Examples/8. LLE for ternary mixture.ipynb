{
 "cells": [
  {
   "cell_type": "markdown",
   "metadata": {},
   "source": [
    "# LLE calculation for fluid mixtures with SAFT-$\\gamma$-Mie\n",
    "\n",
    "In this notebook, LLE calculations with ```saftgammamie``` EoS are illustrated.\n",
    "\n",
    "First, all the needed modules are imported.\n",
    "\n",
    "- NumPy: numerical interface and work with arrays.\n",
    "- matplotlib: to plot results.\n",
    "- ternary: plot ternary plots in python.\n",
    "- SGTPy: package with SAFT-$\\gamma$-Mie EoS and phase equilibria functions."
   ]
  },
  {
   "cell_type": "code",
   "execution_count": 1,
   "metadata": {},
   "outputs": [],
   "source": [
    "import numpy as np\n",
    "import matplotlib.pyplot as plt\n",
    "import ternary\n",
    "from SGTPy import component, mixture, saftgammamie\n",
    "from SGTPy.equilibrium import flash"
   ]
  },
  {
   "cell_type": "markdown",
   "metadata": {},
   "source": [
    "Now, pure components are configured and created with the ```component``` function. Then, a mixture is created with them using the ```mixture``` function or by adding (`+`) pure components. The interaction parameters are set up with the ```mixture.saftgammamie``` method. Finally, the ```eos``` object is created with the ```saftgammamie``` function.\n",
    "\n",
    "The ```eos``` object includes all the necessary methods to compute phase equilibria and interfacial properties using SAFT-$\\gamma$-Mie EoS.\n",
    "\n",
    "For this notebook, all calculations are exemplified for a mixture of butanol, water and hexane."
   ]
  },
  {
   "cell_type": "code",
   "execution_count": 2,
   "metadata": {},
   "outputs": [],
   "source": [
    "hexane = component(GC={'CH3':2, 'CH2':4})\n",
    "butanol = component(GC={'CH3':1, 'CH2':2, 'CH2OH':1})\n",
    "water = component(GC={'H2O':1})\n",
    "\n",
    "# creating mixture with mixture class function\n",
    "mix = mixture(butanol, water)\n",
    "mix.add_component(hexane)\n",
    "# or creating mixture by adding pure components\n",
    "mix = butanol + water + hexane\n",
    "\n",
    "mix.saftgammamie()\n",
    "eos = saftgammamie(mix)"
   ]
  },
  {
   "cell_type": "markdown",
   "metadata": {},
   "source": [
    "## LLE calculation\n",
    "\n",
    "This type of equilibria calculation is carried out at given global composition (z), temperature (K), and pressure (Pa). This calculation can be performed with ```flash``` or ```lle``` function.\n",
    "\n",
    "The flash calculation is carried out with the ```flash``` function and it requires initial guesses for the phase composition ```x0```, ```w0``` and their aggregation state (```LL``` for liquid/liquid equilibria).\n",
    "\n",
    "The ```lle``` requires initial guesses for the phase composition ```x0``` and ```w0```.\n",
    "\n",
    "The ```full_output``` option allows obtaining all the information related to the LLE calculation. This includes the volume of the phases and the solution for the fraction of the nonbonded sites of each phase."
   ]
  },
  {
   "cell_type": "code",
   "execution_count": 3,
   "metadata": {},
   "outputs": [
    {
     "data": {
      "text/plain": [
       "           T: 305.0\n",
       "           P: 101325.0\n",
       " error_outer: 4.016068704575994e-09\n",
       " error_inner: 1.3957601157067684e-10\n",
       "        iter: 16\n",
       "        beta: array([0.5332286, 0.4667714])\n",
       "       tetha: array([0.])\n",
       "           X: array([[5.39298019e-01, 2.73172481e-01, 1.87529500e-01],\n",
       "       [2.66316036e-02, 9.73360026e-01, 8.37026712e-06]])\n",
       "           v: [7.708480480982863e-05, 1.9802453106963755e-05]\n",
       "        Xass: [array([0.17625428, 0.28502052, 0.04767935, 0.64607345]), array([0.60830898, 0.0382345 , 0.06855701, 0.08951296])]\n",
       "      states: ['L', 'L']"
      ]
     },
     "execution_count": 3,
     "metadata": {},
     "output_type": "execute_result"
    }
   ],
   "source": [
    "from SGTPy.equilibrium import lle\n",
    "# phase equilibria conditions\n",
    "T = 305.  # K\n",
    "P = 1.01325e5  # Pa\n",
    "z = np.array([0.3, 0.6, 0.1])\n",
    "# initial guesses\n",
    "x0 = np.array([0.5, 0.2, 0.3])\n",
    "w0 = np.array([0.05, 0.9, 0.05])\n",
    "lle(x0, w0, z, T, P, eos, full_output=True)"
   ]
  },
  {
   "cell_type": "markdown",
   "metadata": {},
   "source": [
    "## Ternary diagram at constant pressure and temperature\n",
    "\n",
    "To compute a ternary LLE diagram it is recommended to compute LLE for the binary subsystems first. \n",
    "\n",
    "Then, depending on the diagram type (with or without a critical point), you can generate a global composition path to compute the LLE."
   ]
  },
  {
   "cell_type": "code",
   "execution_count": 4,
   "metadata": {},
   "outputs": [
    {
     "data": {
      "text/plain": [
       "           T: 305.0\n",
       "           P: 101325.0\n",
       " error_outer: 9.35393324242826e-09\n",
       " error_inner: 2.2036325758143545e-09\n",
       "        iter: 16\n",
       "        beta: array([0.6469327, 0.3530673])\n",
       "       tetha: array([0.])\n",
       "           X: array([[0.4462296 , 0.5537704 , 0.        ],\n",
       "       [0.03206041, 0.96793959, 0.        ]])\n",
       "           v: [4.937781305112487e-05, 2.015832000877519e-05]\n",
       "        Xass: [array([0.21053824, 0.15515324, 0.04141608, 0.4041206 ]), array([0.59663667, 0.03939195, 0.06751166, 0.09264907])]\n",
       "      states: ['L', 'L']"
      ]
     },
     "execution_count": 4,
     "metadata": {},
     "output_type": "execute_result"
    }
   ],
   "source": [
    "n = 100 \n",
    "X = np.zeros([3, n])\n",
    "W = np.zeros([3, n])\n",
    "vx = np.zeros(n)\n",
    "vw = np.zeros(n)\n",
    "\n",
    "# LLE for butanol - water subsystem\n",
    "i = 0\n",
    "z1 = np.array([0.3, 0.7, 0.])\n",
    "x1 = np.array([0.4, 0.6, 0.])\n",
    "w1 = np.array([0.15, 0.85, 0.])\n",
    "sol = lle(x1, w1, z1, T, P, eos, full_output=True)\n",
    "X[:, i], W[:, i] = sol.X\n",
    "vx[i], vw[i] = sol.v\n",
    "sol"
   ]
  },
  {
   "cell_type": "code",
   "execution_count": 5,
   "metadata": {},
   "outputs": [
    {
     "data": {
      "text/plain": [
       "           T: 305.0\n",
       "           P: 101325.0\n",
       " error_outer: 2.887554803660294e-09\n",
       " error_inner: 1.000000375717333e-10\n",
       "        iter: 3\n",
       "        beta: array([0.50021494, 0.49978506])\n",
       "       tetha: array([0.])\n",
       "           X: array([[0.00000000e+00, 4.31805801e-04, 9.99568194e-01],\n",
       "       [0.00000000e+00, 9.99997887e-01, 2.11253246e-06]])\n",
       "           v: [0.0001323186671232798, 1.806974698420842e-05]\n",
       "        Xass: [array([0.99966754, 0.98030549, 0.99163676, 0.99163676]), array([0.67083419, 0.03263571, 0.0746083 , 0.0746083 ])]\n",
       "      states: ['L', 'L']"
      ]
     },
     "execution_count": 5,
     "metadata": {},
     "output_type": "execute_result"
    }
   ],
   "source": [
    "# LLE for water-hexane subsystem\n",
    "i = n-1\n",
    "z0 = np.array([0.0, 0.5, 0.5])\n",
    "x0 = np.array([0.0, 0.0, 1.0])\n",
    "w0 = np.array([0.0, 1.0, 0.0])\n",
    "\n",
    "sol = lle(x0, w0, z0, T, P, eos, full_output=True)\n",
    "X[:, i], W[:, i] = sol.X\n",
    "vx[i], vw[i] = sol.v\n",
    "sol"
   ]
  },
  {
   "cell_type": "code",
   "execution_count": 6,
   "metadata": {},
   "outputs": [],
   "source": [
    "# generating global composition path\n",
    "i = 0\n",
    "z0 = (X[:, i] + W[:, i])/2\n",
    "i = -1\n",
    "z1 = (X[:, i] + W[:, i])/2\n",
    "Zs = np.linspace(z0, z1, n)\n",
    "\n",
    "# computing LLE using previous computed compositions and volumes as initial guesses\n",
    "for i in range(1, n-1):\n",
    "    sol = lle(X[:, i-1], W[:, i-1], Zs[i], T, P, eos, v0=[vx[i-1], vw[i-1]], full_output=True)\n",
    "    X[:, i], W[:, i] = sol.X\n",
    "    vx[i], vw[i] = sol.v\n",
    "    # print(i, sol.error_outer, sol.error_inner, sol.tetha, sol.iter)"
   ]
  },
  {
   "cell_type": "markdown",
   "metadata": {},
   "source": [
    "The results are plotted bellow."
   ]
  },
  {
   "cell_type": "code",
   "execution_count": 7,
   "metadata": {},
   "outputs": [
    {
     "data": {
      "text/plain": [
       "(-0.05, 1.05, -0.1, 0.9)"
      ]
     },
     "execution_count": 7,
     "metadata": {},
     "output_type": "execute_result"
    },
    {
     "data": {
      "image/png": "[encoded data removed]",
      "text/plain": [
       "<Figure size 432x360 with 1 Axes>"
      ]
     },
     "metadata": {},
     "output_type": "display_data"
    }
   ],
   "source": [
    "fig = plt.figure(figsize = (6,5))\n",
    "\n",
    "fontsize = 14\n",
    "ax3 = fig.add_subplot(111)\n",
    "tax = ternary.TernaryAxesSubplot(ax=ax3, scale = 1.0)\n",
    "tax.boundary(linewidth=1.0)\n",
    "tax.gridlines(color=\"black\", multiple=0.1, linewidth=0.5)\n",
    "\n",
    "tax.plot(X.T, color = \"r\")\n",
    "tax.plot(W.T, color = \"r\")\n",
    "# tax.plot(Zs, color = \"b\")\n",
    "\n",
    "for i in range(0, n, 10):\n",
    "    tax.plot([X[:, i], W[:, i]], linestyle='--', color='k')\n",
    "\n",
    "tax.ticks(clockwise=True, multiple=0.1, linewidth=1, offset = 0.03,tick_formats='%.1f')\n",
    "\n",
    "\n",
    "#Set labels\n",
    "tax.right_axis_label(r\"$x_{n-butanol}\\rightarrow$\", fontsize=fontsize, offset = 0.15)\n",
    "tax.left_axis_label(r\"$x_{water} \\rightarrow$\", fontsize=fontsize, offset = 0.15)\n",
    "tax.bottom_axis_label(r\"$\\leftarrow x_{hexane}$\", fontsize=fontsize, offset = 0.15)\n",
    "\n",
    "\n",
    "# Remove default Matplotlib Axes\n",
    "tax.clear_matplotlib_ticks()\n",
    "tax._redraw_labels()\n",
    "ternary.plt.axis('off')\n",
    "#fig.savefig('lle-ternary.pdf')"
   ]
  },
  {
   "cell_type": "markdown",
   "metadata": {},
   "source": [
    "For further information of any of these functions just run: ```function?```"
   ]
  },
  {
   "cell_type": "code",
   "execution_count": null,
   "metadata": {},
   "outputs": [],
   "source": []
  }
 ],
 "metadata": {
  "kernelspec": {
   "display_name": "Python 3",
   "language": "python",
   "name": "python3"
  },
  "language_info": {
   "codemirror_mode": {
    "name": "ipython",
    "version": 3
   },
   "file_extension": ".py",
   "mimetype": "text/x-python",
   "name": "python",
   "nbconvert_exporter": "python",
   "pygments_lexer": "ipython3",
   "version": "3.8.3"
  }
 },
 "nbformat": 4,
 "nbformat_minor": 4
}
