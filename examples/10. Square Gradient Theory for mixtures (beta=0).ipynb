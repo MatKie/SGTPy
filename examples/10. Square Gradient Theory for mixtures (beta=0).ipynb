{
 "cells": [
  {
   "cell_type": "markdown",
   "metadata": {},
   "source": [
    "# Square Gradient Theory for Mixtures\n",
    "\n",
    "Square Gradient Theory allows studying the interfacial behavior of fluid. SGT proposes that the Helmholtz free energy density at the interface can be described by the sum of a homogeneous and a gradient contribution, in which the density profiles between the bulk phases are mean to minimize the energy of the system. This results in the following Euler-Lagrange system: \n",
    "\n",
    "$$ \\sum_j c_{ij} \\frac{d^2 \\rho_j}{dz^2} = \\mu_i - \\mu_i^0 \\qquad i = 1,...,c$$ \n",
    "$$ \\rho(z \\rightarrow -\\infty) = \\rho^\\alpha \\qquad \\rho(z \\rightarrow \\infty) = \\rho^\\beta $$\n",
    "\n",
    "Here, $z$ represents the interfacial position,  $\\mu$, the chemical potential and $\\rho$ the density vector. The superscript 0 refers to the bulk phase value and $\\alpha$, $\\beta$ to the bulk phases index. Finally, $c_{ij}$, represents the cross-influence parameter between molecule $i$ and $j$ and, in general, is computed as the geometric mean of the pure fluid's influence parameter and a correction factor:\n",
    "\n",
    "$$ c_{ij} = (1 - \\beta_{ij}) \\sqrt{c_{ii} c_{jj}} $$\n",
    "\n",
    "The solution procedure of the SGT strongly depends on whether the influence parameter matrix is singular or not. If all $\\beta_{ij} = 0$, the matrix is singular and the differential equation reduces to the following algebraic system of equations.\n",
    "\n",
    "$$ \\sqrt{c_{rr}} \\left[ \\mu_i - \\mu_i^0 \\right] = \\sqrt{c_{ii}} \\left[ \\mu_r - \\mu_r^0 \\right] \\qquad  i = 1,...,c, i \\neq r $$\n",
    "\n",
    "Here $r$ refers to the reference component index.\n",
    "\n",
    "Once the density profiles are solved the interfacial tension can be computed as:\n",
    "\n",
    "$$ \\sigma =  \\int_{-\\infty}^{\\infty} \\sum_i \\sum_j c_{ij} \\frac{d\\rho_i}{dz} \\frac{d\\rho_j}{dz} dz $$\n",
    "\n",
    "This notebook has the purpose of showing examples of computing interfacial tension of mixtures and $\\beta_{ij} = 0$.\n",
    "\n",
    "First, it's needed to import the necessary modules"
   ]
  },
  {
   "cell_type": "code",
   "execution_count": 1,
   "metadata": {},
   "outputs": [],
   "source": [
    "import numpy as np\n",
    "from sgtpy import component, mixture, saftvrmie\n",
    "from sgtpy.equilibrium import bubblePy\n",
    "from sgtpy.sgt import sgt_mix_beta0\n",
    "import matplotlib.pyplot as plt"
   ]
  },
  {
   "cell_type": "markdown",
   "metadata": {},
   "source": [
    "Then a mixture and the EoS are created."
   ]
  },
  {
   "cell_type": "code",
   "execution_count": 2,
   "metadata": {},
   "outputs": [],
   "source": [
    "water = component('water', ms = 1.7311, sigma = 2.4539 , eps = 110.85,\n",
    "                    lambda_r = 8.308, lambda_a = 6.,  eAB = 1991.07, rcAB = 0.5624,\n",
    "                    rdAB = 0.4, sites = [0,2,2], cii = 1.5371939421515455e-20)\n",
    "\n",
    "ethanol = component('ethanol2C', ms = 1.7728, sigma = 3.5592 , eps = 224.50,\n",
    "                    lambda_r = 11.319, lambda_a = 6., eAB = 3018.05, rcAB = 0.3547,\n",
    "                    rdAB = 0.4, sites = [1,0,1], cii= 5.3141080872882285e-20)\n",
    "\n",
    "mix = mixture(ethanol, water)\n",
    "# or\n",
    "mix = ethanol + water\n",
    "\n",
    "kij, lij = np.array([-0.0069751 , -0.01521566])\n",
    "Kij = np.array([[0, kij], [kij, 0]])\n",
    "Lij = np.array([[0., lij], [lij, 0]])\n",
    "# setting interactions corrections\n",
    "mix.kij_saft(Kij)\n",
    "mix.lij_saft(Lij)\n",
    "\n",
    "# or by setting the kij interactions by pairs i=0 (ethanol), j=1 (water)\n",
    "mix.set_kijsaft(i=0, j=1, kij0=kij)\n",
    "mix.set_lijsaft(i=0, j=1, lij0=lij)\n",
    "\n",
    "# creating eos model\n",
    "eos = saftvrmie(mix)"
   ]
  },
  {
   "cell_type": "markdown",
   "metadata": {},
   "source": [
    "With the ``eos`` object the equilibrium point is computed with the ``bubblePy`` function.  For this example, the bubble point of a mixture of x1 = 0.2 at 298.15K is computed."
   ]
  },
  {
   "cell_type": "code",
   "execution_count": 3,
   "metadata": {},
   "outputs": [],
   "source": [
    "T = 298.15 # K\n",
    "# liquid composition\n",
    "x = np.array([0.2, 0.8])\n",
    "# initial guesses\n",
    "P0 = 1e4 # Pa\n",
    "y0 = np.array([0.8, 0.2])\n",
    "sol = bubblePy(y0, P0, x, T, eos, full_output=True)\n",
    "y, P = sol.Y, sol.P\n",
    "vl, vv = sol.v1, sol.v2\n",
    "\n",
    "#computing the density vector\n",
    "rhol = x/vl\n",
    "rhov = y/vv"
   ]
  },
  {
   "cell_type": "markdown",
   "metadata": {},
   "source": [
    "If the ```full_output``` is set to false, the densities vector of the phases can be computed as follows:"
   ]
  },
  {
   "cell_type": "code",
   "execution_count": 4,
   "metadata": {},
   "outputs": [],
   "source": [
    "rhol = eos.density(x, T, P, 'L') * x\n",
    "rhov = eos.density(y, T, P, 'V') * y"
   ]
  },
  {
   "cell_type": "markdown",
   "metadata": {},
   "source": [
    "With the computed equilibrium values (rhov, rhol, T, P) SGT can be used to study the interfacial behavior of the mixture. \n",
    "\n",
    "To solve the density profiles there are two available method:\n",
    "- ``reference``: used the reference component method. The parameter ``s`` sets the index for the reference component.\n",
    "- ``liang``: uses [Liang's path function](https://www.sciencedirect.com/science/article/pii/S0378381216300450):\n",
    "\n",
    "$$ h = \\sum_i \\sqrt{c_{ii}} \\rho_i $$\n",
    "\n",
    "This path function (``h``) is coupled to the algebraic system and allows solving the density profile even when there are multiple stationary points in the interface. Additionally, this method defines a parametric variable $\\alpha$ which is zero at the equilibrium conditions. The values of $\\alpha$ can be used to check if the geometric mixing rule for the influence parameter is suitable for the mixture."
   ]
  },
  {
   "cell_type": "code",
   "execution_count": 5,
   "metadata": {},
   "outputs": [],
   "source": [
    "#if reference component is set to ethanol (index = 0) a lower value is obtained as the \n",
    "#full density profile was not calculated because of a stationary point in the interface\n",
    "solr1 = sgt_mix_beta0(rhov, rhol, T, P, eos, s=0, method='reference', full_output=True)\n",
    "\n",
    "#water doesnt show surface activity across the interface and the density profiles are fully calculated\n",
    "\n",
    "solr2 = sgt_mix_beta0(rhov, rhol, T, P, eos, s=1, method='reference', full_output=True)\n",
    "\n",
    "#Using Liang path function the density profiles are computed directly\n",
    "soll = sgt_mix_beta0(rhov, rhol, T, P, eos, n=300, method='liang', full_output=True)"
   ]
  },
  {
   "cell_type": "code",
   "execution_count": 6,
   "metadata": {},
   "outputs": [
    {
     "name": "stdout",
     "output_type": "stream",
     "text": [
      "Reference component method (1) :  14.698313695780682 mN/m\n",
      "Reference component method (2) :  32.947025299869246 mN/m\n",
      "Liang path Function:  32.94405394934245 mN/m\n"
     ]
    }
   ],
   "source": [
    "print('Reference component method (1) : ', solr1.tension, 'mN/m')\n",
    "print('Reference component method (2) : ', solr2.tension, 'mN/m')\n",
    "print('Liang path Function: ', soll.tension, 'mN/m')"
   ]
  },
  {
   "cell_type": "markdown",
   "metadata": {},
   "source": [
    "The ```full_output``` options allow obtaining tension value, density profiles and grand thermodynamic potential.\n",
    "Those values are accessed similarly as SciPy OptimizeResult.\n",
    "\n",
    "1. sol.tension -> calculated IFT\n",
    "2. sol.rho -> density array\n",
    "3. sol.z -> interfacial lenght array\n",
    "4. sol.GPT -> grand thermodynamic potential\n",
    "\n",
    "\n",
    "The results can be plotted and compared. As can be seen, when ethanol is used as a reference component this method is not able to compute the density profile from one bulk phase to another.\n",
    "When studying the alpha variable from Liang's path function it can be seen that its value at the edge is zero as well as somewhere in the middle. This is expected when the geometric mean rule for the influence parameter with no correction can be used for the mixture."
   ]
  },
  {
   "cell_type": "code",
   "execution_count": 7,
   "metadata": {},
   "outputs": [
    {
     "data": {
      "text/plain": [
       "Text(0.5, 0, 'path function / 1000')"
      ]
     },
     "execution_count": 7,
     "metadata": {},
     "output_type": "execute_result"
    },
    {
     "data": {
      "image/png": "[encoded data removed]",
      "text/plain": [
       "<Figure size 720x288 with 2 Axes>"
      ]
     },
     "metadata": {
      "needs_background": "light"
     },
     "output_type": "display_data"
    }
   ],
   "source": [
    "rhor1 = solr1.rho  / 1000  # kmol/m3\n",
    "rhor2 = solr2.rho / 1000  # kmol/m3\n",
    "\n",
    "rholiang =  soll.rho / 1000 # kmol/m3\n",
    "alphas = soll.alphas\n",
    "path = soll.path\n",
    "\n",
    "\n",
    "fig = plt.figure(figsize = (10, 4))\n",
    "fig.subplots_adjust( wspace=0.3)\n",
    "ax1 = fig.add_subplot(121)\n",
    "ax1.plot(rholiang[0], rholiang[1], color = 'red')\n",
    "ax1.plot(rhor2[0], rhor2[1], color = 'cyan')\n",
    "ax1.plot(rhor1[0], rhor1[1], color = 'black')\n",
    "ax1.plot(rhov[0]/1000, rhov[1]/1000, 'o', color = 'k')\n",
    "ax1.plot(rhol[0]/1000, rhol[1]/1000, 'o', color = 'k')\n",
    "ax1.set_xlabel(r'$\\rho_1$ /  kmol m$^{-3}$')\n",
    "ax1.set_ylabel(r'$\\rho_2$ / kmol m$^{-3}$')\n",
    "\n",
    "ax2 = fig.add_subplot(122)\n",
    "ax2.plot(path/1000, alphas)\n",
    "ax2.axhline(y = 0, linestyle = '--',color = 'r')\n",
    "ax2.set_ylabel(r'$\\alpha$')\n",
    "ax2.set_xlabel(r'path function / 1000')"
   ]
  },
  {
   "cell_type": "markdown",
   "metadata": {},
   "source": [
    "A more challenging mixture to analyze is ethanol and hexane. This mixture has several stationary points across the interface making its calculations tricky. Similar to before, equilibrium has to be computed. "
   ]
  },
  {
   "cell_type": "code",
   "execution_count": 8,
   "metadata": {},
   "outputs": [],
   "source": [
    "ethanol = component('ethanol2C', ms = 1.7728, sigma = 3.5592 , eps = 224.50,\n",
    "                    lambda_r = 11.319, lambda_a = 6., eAB = 3018.05, rcAB = 0.3547,\n",
    "                    rdAB = 0.4, sites = [1,0,1], cii= 5.3141080872882285e-20)\n",
    "\n",
    "hexane = component('hexane', ms = 1.96720036, sigma = 4.54762477, eps = 377.60127994, \n",
    "                   lambda_r = 18.41193194, cii = 3.581510586936205e-19)\n",
    "\n",
    "\n",
    "mix = mixture(hexane, ethanol)\n",
    "# or\n",
    "mix = hexane + ethanol\n",
    "\n",
    "# setting up kij matrix\n",
    "kij = 0.011818492037463553\n",
    "Kij = np.array([[0, kij], [kij, 0]])\n",
    "mix.kij_saft(Kij)\n",
    "# or by setting the kij interactions by pairs i=0 (hexane), j=1 (ethanol)\n",
    "mix.set_kijsaft(i=0, j=1, kij0=kij)\n",
    "\n",
    "eos = saftvrmie(mix)"
   ]
  },
  {
   "cell_type": "code",
   "execution_count": 9,
   "metadata": {},
   "outputs": [],
   "source": [
    "# computing phase equilibria\n",
    "T = 298.15 # K\n",
    "x = np.array([0.3, 0.7])\n",
    "y0 = 1.*x\n",
    "P0 = 8000. # Pa\n",
    "sol = bubblePy(y0, P0, x, T, eos, full_output=True)\n",
    "y, P = sol.Y, sol.P\n",
    "vl, vv = sol.v1, sol.v2\n",
    "\n",
    "#computing the density vector\n",
    "rhox = x/vl\n",
    "rhoy = y/vv"
   ]
  },
  {
   "cell_type": "markdown",
   "metadata": {},
   "source": [
    "Then SGT is used with the different methods available for beta = 0"
   ]
  },
  {
   "cell_type": "code",
   "execution_count": 10,
   "metadata": {},
   "outputs": [
    {
     "name": "stderr",
     "output_type": "stream",
     "text": [
      "c:\\users\\gusta\\documents\\sgtpy\\sgtpy\\vrmie_mixtures\\ahs_monomer.py:121: RuntimeWarning: invalid value encountered in log\n",
      "  log3 = np.log(xhi3_1)\n",
      "c:\\users\\gusta\\documents\\sgtpy\\sgtpy\\vrmie_mixtures\\ghs_chain.py:135: RuntimeWarning: invalid value encountered in log\n",
      "  k0 = -np.log(xhix_1) + (42*xhix - 39*xhix2 + 9*xhix3 - 2*xhix4)/(6*xhix_13)\n",
      "c:\\users\\gusta\\documents\\sgtpy\\sgtpy\\vrmie_mixtures\\ares.py:851: RuntimeWarning: invalid value encountered in log\n",
      "  aux1 = np.log(Xass) - Xass/2 + 1/2\n"
     ]
    }
   ],
   "source": [
    "solr1 = sgt_mix_beta0(rhoy, rhox, T, P, eos, s=0, method='reference', full_output=True)\n",
    "solr2 = sgt_mix_beta0(rhoy, rhox, T, P, eos, s=1, method='reference', full_output=True)\n",
    "soll = sgt_mix_beta0(rhoy, rhox, T, P, eos, n=300, method='liang', full_output=True)"
   ]
  },
  {
   "cell_type": "code",
   "execution_count": 11,
   "metadata": {},
   "outputs": [
    {
     "name": "stdout",
     "output_type": "stream",
     "text": [
      "Reference component method (1) :  9.550416546627517 mN/m\n",
      "Reference component method (2) :  14.807218180830272 mN/m\n",
      "Liang path Function:  16.8261076240089 mN/m\n"
     ]
    }
   ],
   "source": [
    "print('Reference component method (1) : ', solr1.tension, 'mN/m')\n",
    "print('Reference component method (2) : ', solr2.tension, 'mN/m')\n",
    "print('Liang path Function: ', soll.tension, 'mN/m')"
   ]
  },
  {
   "cell_type": "markdown",
   "metadata": {},
   "source": [
    "Finally, the density profiles can be plotted. As can be seen, only Liang path function is able to compute the density profiles from one bulk phase to another correctly. "
   ]
  },
  {
   "cell_type": "code",
   "execution_count": 12,
   "metadata": {},
   "outputs": [
    {
     "data": {
      "text/plain": [
       "Text(0.5, 0, 'path function / 1000')"
      ]
     },
     "execution_count": 12,
     "metadata": {},
     "output_type": "execute_result"
    },
    {
     "data": {
      "image/png": "[encoded data removed]",
      "text/plain": [
       "<Figure size 720x288 with 2 Axes>"
      ]
     },
     "metadata": {
      "needs_background": "light"
     },
     "output_type": "display_data"
    }
   ],
   "source": [
    "rhor1 = solr1.rho  / 1000  # kmol/m3\n",
    "rhor2 = solr2.rho / 1000 # kmol/m3\n",
    "\n",
    "rholiang =  soll.rho / 1000  # kmol/m3\n",
    "alphas = soll.alphas\n",
    "path = soll.path\n",
    "\n",
    "fig = plt.figure(figsize = (10, 4))\n",
    "fig.subplots_adjust( wspace=0.3)\n",
    "ax1 = fig.add_subplot(121)\n",
    "ax1.plot(rholiang[0], rholiang[1], color = 'red')\n",
    "ax1.plot(rhor2[0], rhor2[1], color = 'cyan')\n",
    "ax1.plot(rhor1[0], rhor1[1], color = 'black')\n",
    "ax1.plot(rhoy[0]/1000, rhoy[1]/1000, 'o', color = 'k')\n",
    "ax1.plot(rhox[0]/1000, rhox[1]/1000, 'o', color = 'k')\n",
    "ax1.set_xlabel(r'$\\rho_1$ /  kmol m$^{-3}$')\n",
    "ax1.set_ylabel(r'$\\rho_2$ / kmol m$^{-3}$')\n",
    "\n",
    "ax2 = fig.add_subplot(122)\n",
    "ax2.plot(path/1000, alphas)\n",
    "ax2.axhline(y = 0, linestyle = '--',color = 'r')\n",
    "ax2.set_ylabel(r'$\\alpha$')\n",
    "ax2.set_xlabel(r'path function / 1000')"
   ]
  },
  {
   "cell_type": "markdown",
   "metadata": {},
   "source": [
    "---\n",
    "For further information about the ``sgt_mix_beta0`` function check out the documentation running: ``sgt_mix_beta0?``"
   ]
  },
  {
   "cell_type": "code",
   "execution_count": null,
   "metadata": {},
   "outputs": [],
   "source": []
  }
 ],
 "metadata": {
  "kernelspec": {
   "display_name": "Python 3",
   "language": "python",
   "name": "python3"
  },
  "language_info": {
   "codemirror_mode": {
    "name": "ipython",
    "version": 3
   },
   "file_extension": ".py",
   "mimetype": "text/x-python",
   "name": "python",
   "nbconvert_exporter": "python",
   "pygments_lexer": "ipython3",
   "version": "3.9.6"
  }
 },
 "nbformat": 4,
 "nbformat_minor": 4
}
